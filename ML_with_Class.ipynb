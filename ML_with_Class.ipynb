{
  "nbformat": 4,
  "nbformat_minor": 0,
  "metadata": {
    "colab": {
      "name": "ML with Class.ipynb",
      "provenance": [],
      "authorship_tag": "ABX9TyM9SsIJVQK5pq1o2T1rrTMy",
      "include_colab_link": true
    },
    "kernelspec": {
      "name": "python3",
      "display_name": "Python 3"
    }
  },
  "cells": [
    {
      "cell_type": "markdown",
      "metadata": {
        "id": "view-in-github",
        "colab_type": "text"
      },
      "source": [
        "<a href=\"https://colab.research.google.com/github/ali-kin4/MachineLearning/blob/main/ML_with_Class.ipynb\" target=\"_parent\"><img src=\"https://colab.research.google.com/assets/colab-badge.svg\" alt=\"Open In Colab\"/></a>"
      ]
    },
    {
      "cell_type": "code",
      "metadata": {
        "id": "vgxbcIouekst"
      },
      "source": [
        "import pandas as pd\r\n",
        "import numpy as np\r\n",
        "import seaborn as sns\r\n",
        "import matplotlib.pyplot as plt\r\n",
        "from sklearn.preprocessing import LabelEncoder\r\n",
        "from sklearn.impute import KNNImputer\r\n",
        "from sklearn.model_selection import train_test_split\r\n",
        "from sklearn.svm import SVC\r\n",
        "from sklearn import metrics\r\n",
        "from sklearn.metrics import classification_report, accuracy_score, roc_curve, auc, confusion_matrix\r\n",
        "from sklearn.preprocessing import MinMaxScaler\r\n",
        "from sklearn.linear_model import LogisticRegression\r\n",
        "from sklearn.naive_bayes import GaussianNB\r\n",
        "from sklearn.linear_model import LinearRegression\r\n",
        "from sklearn.linear_model import LogisticRegression\r\n",
        "from sklearn.model_selection import cross_val_score\r\n",
        "from sklearn.tree import DecisionTreeClassifier\r\n",
        "from sklearn.ensemble import RandomForestClassifier\r\n",
        "from sklearn.neighbors import KNeighborsClassifier\r\n",
        "from sklearn.neural_network import MLPClassifier\r\n",
        "import time\r\n",
        "sns.set()"
      ],
      "execution_count": 35,
      "outputs": []
    },
    {
      "cell_type": "code",
      "metadata": {
        "id": "7lJfmS-_fgfr"
      },
      "source": [
        "!pip install --force https://github.com/chengs/tqdm/archive/colab.zip\r\n",
        "from tqdm import tqdm_notebook as tqdm\r\n",
        "with tqdm(range(1)) as pbar:\r\n",
        "  pass"
      ],
      "execution_count": null,
      "outputs": []
    },
    {
      "cell_type": "code",
      "metadata": {
        "id": "Lf6JEP18gELG"
      },
      "source": [
        "class MLModel:\r\n",
        "  def __init__(self, df, seed, model_name):\r\n",
        "    self.df = df\r\n",
        "    self.seed = seed\r\n",
        "    self.model_name = model_name\r\n",
        "    X, y, X_train, X_test, y_train, y_test, y_pred, model = 0, 0, 0, 0, 0, 0, 0, 0\r\n",
        "    self.X = X\r\n",
        "    self.y = y\r\n",
        "    self.X_train = X_train\r\n",
        "    self.X_test = X_test\r\n",
        "    self.y_train = y_train\r\n",
        "    self.y_test = y_test\r\n",
        "    self.y_pred = y_pred\r\n",
        "    self.model = model\r\n",
        "\r\n",
        "  def null_checker(self):\r\n",
        "    return (df.isnull().sum())\r\n",
        "  \r\n",
        "  def separator(self):\r\n",
        "    self.X = df.iloc[:, :-1]\r\n",
        "    self.y = df.iloc[:,-1]\r\n",
        "\r\n",
        "  def data_encoder(self):\r\n",
        "    encoder = LabelEncoder()\r\n",
        "    self.y = encoder.fit_transform(self.y)\r\n",
        "\r\n",
        "  def null_imputer(self):\r\n",
        "    if (sum(self.null_checker()) != 0):\r\n",
        "      cols = []\r\n",
        "      for col in self.X.columns: \r\n",
        "          cols.append(col) \r\n",
        "\r\n",
        "      imputer = KNNImputer(n_neighbors=2)\r\n",
        "      X_filled = imputer.fit_transform(self.X)\r\n",
        "      X_new = pd.DataFrame(data=X_filled, columns=cols)\r\n",
        "      self.X = X_new\r\n",
        "\r\n",
        "  def data_scaler(self):\r\n",
        "    scaler = MinMaxScaler()\r\n",
        "    scaler.fit(self.X)\r\n",
        "    self.X = scaler.transform(self.X)\r\n",
        "\r\n",
        "  def data_splitter(self):\r\n",
        "    self.X_train, self.X_test, self.y_train, self.y_test = train_test_split(self.X, self.y, test_size=0.2, random_state=self.seed)\r\n",
        "\r\n",
        "  def metrics_calc(self):\r\n",
        "    print(classification_report(self.y_test, self.y_pred))\r\n",
        "    print(\"=\"*30)\r\n",
        "    print(\"Accuracy: {}\".format(accuracy_score(self.y_test, self.y_pred)))\r\n",
        "#------------------------------------------------------------------------------------------------\r\n",
        "# ML models:\r\n",
        "  def SVM(self):\r\n",
        "    print(\"SVM\")\r\n",
        "    svc = SVC(probability=True)  # Default hyperparameters -- put probability=True if you want to plot ROC Curve\r\n",
        "    svc.fit(self.X_train, self.y_train)\r\n",
        "    y_pred = svc.predict(self.X_test)\r\n",
        "    self.y_pred = y_pred\r\n",
        "    self.model = svc\r\n",
        "    self.metrics_calc() #calculate metrics\r\n",
        "\r\n",
        "  def logreg(self):\r\n",
        "    print(\"LogReg\")\r\n",
        "    model = LogisticRegression(max_iter=1000)\r\n",
        "    model.fit(self.X_train, self.y_train)\r\n",
        "    y_pred = model.predict(self.X_test)\r\n",
        "    self.y_pred = y_pred\r\n",
        "    self.model = model\r\n",
        "    self.metrics_calc()\r\n",
        "\r\n",
        "  def NB(self):\r\n",
        "    print(\"Naive Bayes\")\r\n",
        "    NB = GaussianNB()\r\n",
        "    NB.fit(self.X_train, self.y_train)\r\n",
        "    y_pred = NB.predict(self.X_test)\r\n",
        "    self.y_pred = y_pred\r\n",
        "    self.model = NB\r\n",
        "    self.metrics_calc()\r\n",
        "\r\n",
        "  def DT(self):\r\n",
        "    print(\"Decision Tree\")\r\n",
        "    DT = DecisionTreeClassifier(criterion = 'gini', splitter='best', max_depth=15)\r\n",
        "    DT.fit(self.X_train, self.y_train)\r\n",
        "    y_pred = DT.predict(self.X_test)\r\n",
        "    self.y_pred = y_pred\r\n",
        "    self.model = DT\r\n",
        "    self.metrics_calc()\r\n",
        "  \r\n",
        "  def KNN(self):\r\n",
        "    print(\"K Nearest Neighbors (KNN)\")\r\n",
        "    KNN = KNeighborsClassifier(n_neighbors = 5)\r\n",
        "    KNN.fit(self.X_train, self.y_train)\r\n",
        "    y_pred = KNN.predict(self.X_test)\r\n",
        "    self.y_pred = y_pred\r\n",
        "    self.model = KNN\r\n",
        "    self.metrics_calc()\r\n",
        "\r\n",
        "  def NN(self):\r\n",
        "    print(\"Neural Networks\")\r\n",
        "    NN = MLPClassifier(hidden_layer_sizes=(50, 50, 50), max_iter=1500, activation = 'relu', solver='adam', random_state=42)\r\n",
        "    NN.fit(self.X_train, self.y_train)\r\n",
        "    y_pred = NN.predict(self.X_test)\r\n",
        "    self.y_pred = y_pred\r\n",
        "    self.model = NN\r\n",
        "    self.metrics_calc()\r\n",
        "\r\n",
        "  def RF(self):\r\n",
        "    print(\"Random Forest\")\r\n",
        "    clf = RandomForestClassifier(n_estimators=100, random_state=0)\r\n",
        "    clf.fit(self.X_train, self.y_train)\r\n",
        "    y_pred = clf.predict(self.X_test)\r\n",
        "    self.y_pred = y_pred\r\n",
        "    self.model = clf\r\n",
        "    self.metrics_calc()\r\n",
        "#------------------------------------------------------------------------------------------------\r\n",
        "  def roc_plotter(self):\r\n",
        "    y_pred_proba = self.model.predict_proba(self.X_test)\r\n",
        "    fpr0, tpr0, _ = roc_curve(self.y_test, y_pred_proba[:, 0], pos_label=self.model.classes_[0]) #class 0\r\n",
        "    fpr1, tpr1, _ = roc_curve(self.y_test, y_pred_proba[:, 1], pos_label=self.model.classes_[1]) #class 1\r\n",
        "\r\n",
        "    plt.figure(figsize = (8, 8))\r\n",
        "    plt.xlabel(\"FP Rate\")\r\n",
        "    plt.ylabel(\"TP Rate\")\r\n",
        "    plt.plot(fpr0, tpr0, label = 'class 0', linewidth = 2)\r\n",
        "    plt.plot(fpr1, tpr1, label = 'class 1', linewidth = 2)\r\n",
        "    plt.title(\"ROC Curve\")\r\n",
        "    plt.legend()\r\n",
        "    plt.autoscale(enable=True, axis='both', tight=False)\r\n",
        "    plt.show()\r\n",
        "\r\n",
        "  def conf_matrix(self):\r\n",
        "    cnf_matrix = confusion_matrix(self.y_test, self.y_pred)\r\n",
        "\r\n",
        "    fig, ax = plt.subplots(figsize=(7, 7))\r\n",
        "    # create heatmap\r\n",
        "    sns.heatmap(pd.DataFrame(cnf_matrix), annot=True, cmap=\"YlGnBu\", fmt=\"g\")\r\n",
        "    ax.xaxis.set_label_position(\"top\")\r\n",
        "    plt.tight_layout()\r\n",
        "    plt.title(\"Confusion matrix\", y=1.1)\r\n",
        "    plt.ylabel(\"Actual label\")\r\n",
        "    plt.xlabel(\"Predicted label\");\r\n",
        "\r\n",
        "  def model_selector(self):\r\n",
        "    if self.model_name == \"SVM\":\r\n",
        "      self.SVM()\r\n",
        "    elif self.model_name == \"LogReg\":\r\n",
        "      self.logreg()\r\n",
        "    elif self.model_name == \"NB\":\r\n",
        "      self.NB()\r\n",
        "    elif self.model_name == \"DT\":\r\n",
        "      self.DT()\r\n",
        "    elif self.model_name == \"KNN\":\r\n",
        "      self.KNN()\r\n",
        "    elif self.model_name == \"NN\":\r\n",
        "      self.NN()\r\n",
        "    elif self.model_name == \"RF\":\r\n",
        "      self.RF()\r\n",
        "\r\n",
        "  def auto_learn(self):\r\n",
        "    self.null_checker()\r\n",
        "    self.separator()\r\n",
        "    self.data_encoder()\r\n",
        "    self.null_imputer()\r\n",
        "    self.data_scaler()\r\n",
        "    self.data_splitter()\r\n",
        "    self.model_selector()"
      ],
      "execution_count": 58,
      "outputs": []
    },
    {
      "cell_type": "code",
      "metadata": {
        "colab": {
          "base_uri": "https://localhost:8080/"
        },
        "id": "_WxGSlJihXi_",
        "outputId": "e04787b7-8bab-410c-bfcb-80213b804baf"
      },
      "source": [
        "file_name = '/content/voice.csv'\r\n",
        "df = pd.read_csv(file_name)\r\n",
        "seed = 8\r\n",
        "\r\n",
        "#models: SVM, LogReg, NB, DT, KNN, NN, RF\r\n",
        "\r\n",
        "voice = MLModel(df, seed, \"NN\")\r\n",
        "\r\n",
        "start_time = time.time()\r\n",
        "\r\n",
        "voice.auto_learn()\r\n",
        "\r\n",
        "print('='*30)\r\n",
        "print(\"Run time: {} seconds\".format((time.time() - start_time)))"
      ],
      "execution_count": 67,
      "outputs": [
        {
          "output_type": "stream",
          "text": [
            "Neural Networks\n",
            "              precision    recall  f1-score   support\n",
            "\n",
            "           0       0.98      0.99      0.99       325\n",
            "           1       0.99      0.98      0.99       309\n",
            "\n",
            "    accuracy                           0.99       634\n",
            "   macro avg       0.99      0.99      0.99       634\n",
            "weighted avg       0.99      0.99      0.99       634\n",
            "\n",
            "==============================\n",
            "Accuracy: 0.9873817034700315\n",
            "==============================\n",
            "Run time: 5.28540301322937 seconds\n"
          ],
          "name": "stdout"
        }
      ]
    },
    {
      "cell_type": "code",
      "metadata": {
        "colab": {
          "base_uri": "https://localhost:8080/",
          "height": 518
        },
        "id": "BMMWwLy7tIcD",
        "outputId": "64e88d54-a2bd-4c3c-dae5-c3aefbd87f0c"
      },
      "source": [
        "voice.roc_plotter()"
      ],
      "execution_count": 68,
      "outputs": [
        {
          "output_type": "display_data",
          "data": {
            "image/png": "[encoded data removed]",
            "text/plain": [
              "<Figure size 576x576 with 1 Axes>"
            ]
          },
          "metadata": {
            "tags": []
          }
        }
      ]
    },
    {
      "cell_type": "code",
      "metadata": {
        "colab": {
          "base_uri": "https://localhost:8080/",
          "height": 539
        },
        "id": "3b_adOaMufXb",
        "outputId": "4c257965-4593-4c8a-969b-c3137f8a5cb8"
      },
      "source": [
        "voice.conf_matrix()"
      ],
      "execution_count": 69,
      "outputs": [
        {
          "output_type": "display_data",
          "data": {
            "image/png": "[encoded data removed]",
            "text/plain": [
              "<Figure size 504x504 with 2 Axes>"
            ]
          },
          "metadata": {
            "tags": []
          }
        }
      ]
    },
    {
      "cell_type": "code",
      "metadata": {
        "id": "CyU2Z4ADwlsY"
      },
      "source": [
        ""
      ],
      "execution_count": null,
      "outputs": []
    }
  ]
}