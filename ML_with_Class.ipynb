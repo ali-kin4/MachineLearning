{
  "nbformat": 4,
  "nbformat_minor": 0,
  "metadata": {
    "colab": {
      "name": "ML with Class.ipynb",
      "provenance": [],
      "authorship_tag": "ABX9TyM1X1KMUqs5DZviuXjcgBff",
      "include_colab_link": true
    },
    "kernelspec": {
      "name": "python3",
      "display_name": "Python 3"
    }
  },
  "cells": [
    {
      "cell_type": "markdown",
      "metadata": {
        "id": "view-in-github",
        "colab_type": "text"
      },
      "source": [
        "<a href=\"https://colab.research.google.com/github/ali-kin4/MachineLearning/blob/main/ML_with_Class.ipynb\" target=\"_parent\"><img src=\"https://colab.research.google.com/assets/colab-badge.svg\" alt=\"Open In Colab\"/></a>"
      ]
    },
    {
      "cell_type": "code",
      "metadata": {
        "id": "vgxbcIouekst"
      },
      "source": [
        "import pandas as pd\r\n",
        "import numpy as np\r\n",
        "import seaborn as sns\r\n",
        "import matplotlib.pyplot as plt\r\n",
        "from sklearn.preprocessing import LabelEncoder\r\n",
        "from sklearn.impute import KNNImputer\r\n",
        "from sklearn.model_selection import train_test_split\r\n",
        "from sklearn.svm import SVC\r\n",
        "from sklearn import metrics\r\n",
        "from sklearn.metrics import classification_report, accuracy_score, roc_curve, auc, confusion_matrix\r\n",
        "from sklearn.preprocessing import MinMaxScaler\r\n",
        "from sklearn.linear_model import LogisticRegression\r\n",
        "from sklearn.naive_bayes import GaussianNB\r\n",
        "from sklearn.linear_model import LinearRegression\r\n",
        "from sklearn.linear_model import LogisticRegression\r\n",
        "from sklearn.model_selection import cross_val_score\r\n",
        "from sklearn.tree import DecisionTreeClassifier\r\n",
        "from sklearn.ensemble import RandomForestClassifier\r\n",
        "from sklearn.neighbors import KNeighborsClassifier\r\n",
        "from sklearn.neural_network import MLPClassifier\r\n",
        "sns.set()"
      ],
      "execution_count": 2,
      "outputs": []
    },
    {
      "cell_type": "code",
      "metadata": {
        "colab": {
          "base_uri": "https://localhost:8080/",
          "height": 358
        },
        "id": "7lJfmS-_fgfr",
        "outputId": "657461b1-bf38-4fae-dae4-288e2461593d"
      },
      "source": [
        "!pip install --force https://github.com/chengs/tqdm/archive/colab.zip\r\n",
        "from tqdm import tqdm_notebook as tqdm\r\n",
        "with tqdm(range(1)) as pbar:\r\n",
        "  pass"
      ],
      "execution_count": 3,
      "outputs": [
        {
          "output_type": "stream",
          "text": [
            "Collecting https://github.com/chengs/tqdm/archive/colab.zip\n",
            "\u001b[?25l  Downloading https://github.com/chengs/tqdm/archive/colab.zip\n",
            "\u001b[K     | 194kB 4.0MB/s\n",
            "\u001b[?25hBuilding wheels for collected packages: tqdm\n",
            "  Building wheel for tqdm (setup.py) ... \u001b[?25l\u001b[?25hdone\n",
            "  Created wheel for tqdm: filename=tqdm-4.28.1-py2.py3-none-any.whl size=47868 sha256=f0554695192c4c6e8bdbe288761262e285c3dfcbab0c5d4b1f25acd81b5246da\n",
            "  Stored in directory: /tmp/pip-ephem-wheel-cache-dsxcnudh/wheels/41/18/ee/d5dd158441b27965855b1bbae03fa2d8a91fe645c01b419896\n",
            "Successfully built tqdm\n",
            "\u001b[31mERROR: spacy 2.2.4 has requirement tqdm<5.0.0,>=4.38.0, but you'll have tqdm 4.28.1 which is incompatible.\u001b[0m\n",
            "\u001b[31mERROR: fbprophet 0.7.1 has requirement tqdm>=4.36.1, but you'll have tqdm 4.28.1 which is incompatible.\u001b[0m\n",
            "Installing collected packages: tqdm\n",
            "  Found existing installation: tqdm 4.41.1\n",
            "    Uninstalling tqdm-4.41.1:\n",
            "      Successfully uninstalled tqdm-4.41.1\n",
            "Successfully installed tqdm-4.28.1\n"
          ],
          "name": "stdout"
        },
        {
          "output_type": "stream",
          "text": [
            "/usr/local/lib/python3.6/dist-packages/tqdm/_tqdm_notebook.py:88: TqdmExperimentalWarning: Detect Google Colab 0.0.1a2 and thus load dummy ipywidgets package. Note that UI is different from that in Jupyter. See https://github.com/tqdm/tqdm/pull/640\n",
            "  \" See https://github.com/tqdm/tqdm/pull/640\".format(colab.__version__), TqdmExperimentalWarning)\n"
          ],
          "name": "stderr"
        },
        {
          "output_type": "display_data",
          "data": {
            "text/html": [
              "<div style=\"display:flex;flex-direction:row;\"><span></span><progress style='margin:2px 4px;' max='1' value='0'></progress>  0% 0/1 [00:00&lt;?, ?it/s]</div>"
            ],
            "text/plain": [
              "<tqdm._fake_ipywidgets.HBox object>"
            ]
          },
          "metadata": {
            "tags": []
          }
        },
        {
          "output_type": "stream",
          "text": [
            "\n"
          ],
          "name": "stdout"
        }
      ]
    },
    {
      "cell_type": "code",
      "metadata": {
        "id": "Lf6JEP18gELG"
      },
      "source": [
        "class MLModel:\r\n",
        "  def __init__(self, df, seed):\r\n",
        "    self.df = df\r\n",
        "    self.seed = seed\r\n",
        "    X, y, X_train, X_test, y_train, y_test, y_pred, model = 0, 0, 0, 0, 0, 0, 0, 0\r\n",
        "    self.X = X\r\n",
        "    self.y = y\r\n",
        "    self.X_train = X_train\r\n",
        "    self.X_test = X_test\r\n",
        "    self.y_train = y_train\r\n",
        "    self.y_test = y_test\r\n",
        "    self.y_pred = y_pred\r\n",
        "    self.model = model\r\n",
        "\r\n",
        "  def null_checker(self):\r\n",
        "    return (df.isnull().sum())\r\n",
        "  \r\n",
        "  def separator(self):\r\n",
        "    self.X = df.iloc[:, :-1]\r\n",
        "    self.y = df.iloc[:,-1]\r\n",
        "\r\n",
        "  def data_encoder(self):\r\n",
        "    encoder = LabelEncoder()\r\n",
        "    self.y = encoder.fit_transform(self.y)\r\n",
        "\r\n",
        "  def null_imputer(self):\r\n",
        "    if (sum(self.null_checker()) != 0):\r\n",
        "      cols = []\r\n",
        "      for col in self.X.columns: \r\n",
        "          cols.append(col) \r\n",
        "\r\n",
        "      imputer = KNNImputer(n_neighbors=2)\r\n",
        "      X_filled = imputer.fit_transform(self.X)\r\n",
        "      X_new = pd.DataFrame(data=X_filled, columns=cols)\r\n",
        "      self.X = X_new\r\n",
        "\r\n",
        "  def data_scaler(self):\r\n",
        "    scaler = MinMaxScaler()\r\n",
        "    scaler.fit(self.X)\r\n",
        "    self.X = scaler.transform(self.X)\r\n",
        "\r\n",
        "  def data_splitter(self):\r\n",
        "    self.X_train, self.X_test, self.y_train, self.y_test = train_test_split(self.X, self.y, test_size=0.2, random_state=self.seed)\r\n",
        "\r\n",
        "  def metrics_calc(self):\r\n",
        "    print(classification_report(self.y_test, self.y_pred))\r\n",
        "    print(\"======================\")\r\n",
        "    print(\"Accuracy: {}\".format(accuracy_score(self.y_test, self.y_pred)))\r\n",
        "#------------------------------------------------------------------------------------------------\r\n",
        "# ML models:\r\n",
        "  def SVM(self):\r\n",
        "    print(\"SVM\")\r\n",
        "    svc = SVC(probability=True)  # Default hyperparameters -- put probability=True if you want to plot ROC Curve\r\n",
        "    svc.fit(self.X_train, self.y_train)\r\n",
        "    y_pred = svc.predict(self.X_test)\r\n",
        "    self.y_pred = y_pred\r\n",
        "    self.model = svc\r\n",
        "    self.metrics_calc() #calculate metrics\r\n",
        "\r\n",
        "  def logreg(self):\r\n",
        "    print(\"LogReg\")\r\n",
        "    model = LogisticRegression(max_iter=1000)\r\n",
        "    model.fit(self.X_train, self.y_train)\r\n",
        "    y_pred = model.predict(self.X_test)\r\n",
        "    self.y_pred = y_pred\r\n",
        "    self.model = model\r\n",
        "    self.metrics_calc()\r\n",
        "\r\n",
        "  def NB(self):\r\n",
        "    print(\"Naive Bayes\")\r\n",
        "    NB = GaussianNB()\r\n",
        "    NB.fit(self.X_train, self.y_train)\r\n",
        "    y_pred = NB.predict(self.X_test)\r\n",
        "    self.y_pred = y_pred\r\n",
        "    self.model = NB\r\n",
        "    self.metrics_calc()\r\n",
        "\r\n",
        "  def DT(self):\r\n",
        "    print(\"Decision Tree\")\r\n",
        "    DT = DecisionTreeClassifier(criterion = 'gini', splitter='best', max_depth=15)\r\n",
        "    DT.fit(self.X_train, self.y_train)\r\n",
        "    y_pred = DT.predict(self.X_test)\r\n",
        "    self.y_pred = y_pred\r\n",
        "    self.model = DT\r\n",
        "    self.metrics_calc()\r\n",
        "  \r\n",
        "  def KNN(self):\r\n",
        "    print(\"K Nearest Neighbors (KNN)\")\r\n",
        "    KNN = KNeighborsClassifier(n_neighbors = 5)\r\n",
        "    KNN.fit(self.X_train, self.y_train)\r\n",
        "    y_pred = KNN.predict(self.X_test)\r\n",
        "    self.y_pred = y_pred\r\n",
        "    self.model = KNN\r\n",
        "    self.metrics_calc()\r\n",
        "\r\n",
        "  def NN(self):\r\n",
        "    print(\"Neural Networks\")\r\n",
        "    NN = MLPClassifier(hidden_layer_sizes=(150, 100, 50), max_iter=1500, activation = 'relu', solver='adam', random_state=42)\r\n",
        "    NN.fit(self.X_train, self.y_train)\r\n",
        "    y_pred = NN.predict(self.X_test)\r\n",
        "    self.y_pred = y_pred\r\n",
        "    self.model = NN\r\n",
        "    self.metrics_calc()\r\n",
        "\r\n",
        "  def RF(self):\r\n",
        "    print(\"Random Forest\")\r\n",
        "    clf = RandomForestClassifier(n_estimators=100, random_state=0)\r\n",
        "    clf.fit(self.X_train, self.y_train)\r\n",
        "    y_pred = clf.predict(self.X_test)\r\n",
        "    self.y_pred = y_pred\r\n",
        "    self.model = clf\r\n",
        "    self.metrics_calc()\r\n",
        "#------------------------------------------------------------------------------------------------\r\n",
        "  def roc_plotter(self):\r\n",
        "    y_pred_proba = self.model.predict_proba(self.X_test)\r\n",
        "    fpr0, tpr0, _ = roc_curve(self.y_test, y_pred_proba[:, 0], pos_label=self.model.classes_[0]) #class 0\r\n",
        "    fpr1, tpr1, _ = roc_curve(self.y_test, y_pred_proba[:, 1], pos_label=self.model.classes_[1]) #class 1\r\n",
        "\r\n",
        "    plt.figure(figsize = (8, 8))\r\n",
        "    plt.xlabel(\"FP Rate\")\r\n",
        "    plt.ylabel(\"TP Rate\")\r\n",
        "    plt.plot(fpr0, tpr0, label = 'class 0', linewidth = 2)\r\n",
        "    plt.plot(fpr1, tpr1, label = 'class 1', linewidth = 2)\r\n",
        "    plt.title(\"ROC Curve\")\r\n",
        "    plt.legend()\r\n",
        "    plt.autoscale(enable=True, axis='both', tight=False)\r\n",
        "    plt.show()\r\n",
        "\r\n",
        "  def conf_matrix(self):\r\n",
        "    cnf_matrix = confusion_matrix(self.y_test, self.y_pred)\r\n",
        "\r\n",
        "    fig, ax = plt.subplots(figsize=(7, 7))\r\n",
        "    # create heatmap\r\n",
        "    sns.heatmap(pd.DataFrame(cnf_matrix), annot=True, cmap=\"YlGnBu\", fmt=\"g\")\r\n",
        "    ax.xaxis.set_label_position(\"top\")\r\n",
        "    plt.tight_layout()\r\n",
        "    plt.title(\"Confusion matrix\", y=1.1)\r\n",
        "    plt.ylabel(\"Actual label\")\r\n",
        "    plt.xlabel(\"Predicted label\");\r\n",
        "\r\n",
        "  def auto_learn(self):\r\n",
        "    self.null_checker()\r\n",
        "    self.separator()\r\n",
        "    self.data_encoder()\r\n",
        "    self.null_imputer()\r\n",
        "    self.data_scaler()\r\n",
        "    self.data_splitter()\r\n",
        "    self.RF() #change to desired model"
      ],
      "execution_count": 26,
      "outputs": []
    },
    {
      "cell_type": "code",
      "metadata": {
        "colab": {
          "base_uri": "https://localhost:8080/"
        },
        "id": "_WxGSlJihXi_",
        "outputId": "66814923-1205-4116-a1d8-050cf1a3e23d"
      },
      "source": [
        "file_name = '/content/voice.csv'\r\n",
        "df = pd.read_csv(file_name)\r\n",
        "seed = 8\r\n",
        "voice = MLModel(df, seed)\r\n",
        "voice.auto_learn()"
      ],
      "execution_count": 27,
      "outputs": [
        {
          "output_type": "stream",
          "text": [
            "Random Forest\n",
            "              precision    recall  f1-score   support\n",
            "\n",
            "           0       0.98      0.99      0.98       325\n",
            "           1       0.99      0.97      0.98       309\n",
            "\n",
            "    accuracy                           0.98       634\n",
            "   macro avg       0.98      0.98      0.98       634\n",
            "weighted avg       0.98      0.98      0.98       634\n",
            "\n",
            "======================\n",
            "Accuracy: 0.9826498422712934\n"
          ],
          "name": "stdout"
        }
      ]
    },
    {
      "cell_type": "code",
      "metadata": {
        "id": "dRVqOaPYiLXG"
      },
      "source": [
        "voice.separator()\r\n",
        "voice.data_encoder()\r\n",
        "voice.data_scaler()\r\n",
        "voice.data_splitter()"
      ],
      "execution_count": null,
      "outputs": []
    },
    {
      "cell_type": "code",
      "metadata": {
        "id": "_GYM3aSincAU"
      },
      "source": [
        "voice.svm_model()"
      ],
      "execution_count": null,
      "outputs": []
    },
    {
      "cell_type": "code",
      "metadata": {
        "colab": {
          "base_uri": "https://localhost:8080/",
          "height": 518
        },
        "id": "BMMWwLy7tIcD",
        "outputId": "4a9e4e8c-8490-40bc-ae5a-8361804b0e6e"
      },
      "source": [
        "voice.roc_plotter()"
      ],
      "execution_count": null,
      "outputs": [
        {
          "output_type": "display_data",
          "data": {
            "image/png": "[encoded data removed]",
            "text/plain": [
              "<Figure size 576x576 with 1 Axes>"
            ]
          },
          "metadata": {
            "tags": [],
            "needs_background": "light"
          }
        }
      ]
    },
    {
      "cell_type": "code",
      "metadata": {
        "colab": {
          "base_uri": "https://localhost:8080/",
          "height": 543
        },
        "id": "3b_adOaMufXb",
        "outputId": "7b3f34fd-e142-4d0c-d00c-27a65962b325"
      },
      "source": [
        "voice.conf_matrix()"
      ],
      "execution_count": null,
      "outputs": [
        {
          "output_type": "display_data",
          "data": {
            "image/png": "[encoded data removed]",
            "text/plain": [
              "<Figure size 504x504 with 2 Axes>"
            ]
          },
          "metadata": {
            "tags": [],
            "needs_background": "light"
          }
        }
      ]
    },
    {
      "cell_type": "code",
      "metadata": {
        "id": "CyU2Z4ADwlsY"
      },
      "source": [
        ""
      ],
      "execution_count": null,
      "outputs": []
    }
  ]
}